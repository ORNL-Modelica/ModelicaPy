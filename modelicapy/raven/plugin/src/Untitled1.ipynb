{
 "cells": [
  {
   "cell_type": "code",
   "execution_count": 50,
   "id": "5b8fd94b-0356-4a21-889a-f14697d784c2",
   "metadata": {},
   "outputs": [],
   "source": [
    "import numpy as np\n",
    "import scipy.optimize\n",
    "import matplotlib.pyplot as plt"
   ]
  },
  {
   "cell_type": "code",
   "execution_count": 42,
   "id": "eb30cdd8-e10a-491b-babe-bca06ab24148",
   "metadata": {},
   "outputs": [],
   "source": [
    "M = 10  # Control horizon\n",
    "P = 20  # Prediction horizon\n",
    "DeltaT = output_interval  # Sampling rate\n",
    "\n",
    "tcontinuous = numpy.linspace(0, P*DeltaT, int(5*(M-0)/DeltaT))  # some closely spaced time points\n",
    "tpredict = numpy.arange(0, (P+1)*DeltaT, DeltaT)   # discrete points at prediction horizon"
   ]
  },
  {
   "cell_type": "code",
   "execution_count": 37,
   "id": "8f3d0021-be31-4da6-a0c1-a4cbbfea0e4c",
   "metadata": {},
   "outputs": [],
   "source": [
    "tau_c = 1\n",
    "r = 1 - numpy.exp(-tpredict/tau_c)"
   ]
  },
  {
   "cell_type": "code",
   "execution_count": 39,
   "id": "377ae776-d0df-4ece-908f-cb6f41d374c3",
   "metadata": {},
   "outputs": [],
   "source": [
    "u = numpy.ones(M)"
   ]
  },
  {
   "cell_type": "code",
   "execution_count": null,
   "id": "02961a8d-68b3-4618-9c31-ede4aeb6a9ac",
   "metadata": {},
   "outputs": [],
   "source": []
  },
  {
   "cell_type": "code",
   "execution_count": 46,
   "id": "7f1f6e7a-b4b5-4d05-98d7-b7f3b799d9c4",
   "metadata": {},
   "outputs": [
    {
     "data": {
      "text/plain": [
       "21"
      ]
     },
     "execution_count": 46,
     "metadata": {},
     "output_type": "execute_result"
    }
   ],
   "source": [
    "len(tpredict)"
   ]
  },
  {
   "cell_type": "code",
   "execution_count": null,
   "id": "bf1c87ba-6188-42a8-b38e-77075698438f",
   "metadata": {},
   "outputs": [],
   "source": []
  },
  {
   "cell_type": "code",
   "execution_count": null,
   "id": "822acf64-906a-4c77-a556-5e8f662e00a7",
   "metadata": {},
   "outputs": [],
   "source": [
    "def prediction(filename, stop_time=P, output_intervaoutput_interval, start_values=parameters, output=outputs, inputs=inputs):\n",
    "    \"\"\"Predict the effect of an input signal\"\"\"\n",
    "    t, y, x = scipy.signal.lsim(G, u, t, X0=x0, interp=False)\n",
    "    results = simulate_fmu(filename,\n",
    "                           start_time=0,\n",
    "                           stop_time=stop_time,\n",
    "                           output_interval=output_interval,\n",
    "                           start_values=parameters,\n",
    "                           output=outputs,\n",
    "                           input=inputs)\n",
    "    return results"
   ]
  },
  {
   "cell_type": "code",
   "execution_count": null,
   "id": "a21fa106-8d51-498f-abd8-51868c88849a",
   "metadata": {},
   "outputs": [],
   "source": [
    "def objective(u, x0=x0):\n",
    "    \"\"\"Calculate the sum of the square error for the cotnrol problem\"\"\"\n",
    "    y = prediction(extend(u))\n",
    "    results = simulate_fmu(filename,\n",
    "                           start_time=0,\n",
    "                           stop_time=stop_time,\n",
    "                           output_interval=output_interval,\n",
    "                           start_values=parameters,\n",
    "                           output=outputs,\n",
    "                           input=inputs)\n",
    "    return sum((r - y)**2)"
   ]
  },
  {
   "cell_type": "code",
   "execution_count": null,
   "id": "7396f305-1dc2-4ddc-8b88-462504856f8d",
   "metadata": {},
   "outputs": [],
   "source": [
    "scipy.optimize.minimize(objective, u)"
   ]
  },
  {
   "cell_type": "code",
   "execution_count": null,
   "id": "00e65a45-0947-4570-aa1b-66f6f25c6d91",
   "metadata": {},
   "outputs": [],
   "source": []
  },
  {
   "cell_type": "code",
   "execution_count": null,
   "id": "1ff29651-e90b-4696-bfed-0e595fbea663",
   "metadata": {},
   "outputs": [],
   "source": [
    "def extend(u):\n",
    "    \"\"\"We optimise the first M values of u but we need P values for prediction\"\"\"\n",
    "    u, numpy.repeat(u[-1], P-M)])\n",
    "    \n",
    "    results = simulate_fmu(filename,\n",
    "                   start_time=0,stop_time=stop_time,output_interval=output_interval,\n",
    "                   start_values=parameters,output=outputs,input=u)\n",
    "    return results"
   ]
  },
  {
   "cell_type": "code",
   "execution_count": null,
   "id": "bf656691-c53b-4f03-b32d-22474c7ea76e",
   "metadata": {},
   "outputs": [],
   "source": []
  },
  {
   "cell_type": "code",
   "execution_count": null,
   "id": "c0f1fdf6-7474-4c08-a52c-d060c11fd084",
   "metadata": {},
   "outputs": [],
   "source": [
    "x0 = np.ones(nV)"
   ]
  },
  {
   "cell_type": "code",
   "execution_count": null,
   "id": "ec28f79e-a397-4ff0-bef6-35e651079cf1",
   "metadata": {},
   "outputs": [],
   "source": [
    "scipy.optimize.least_squares(fun=objective,x0=start_values,args = args)"
   ]
  },
  {
   "cell_type": "code",
   "execution_count": null,
   "id": "1b4db1fc-337e-4e2f-a4ca-26e29de301dd",
   "metadata": {},
   "outputs": [],
   "source": []
  },
  {
   "cell_type": "code",
   "execution_count": 133,
   "id": "00607de8-9579-4b4b-961d-7665d897d65d",
   "metadata": {},
   "outputs": [],
   "source": [
    "def createInputs(inputList,dtype):\n",
    "    # verify length of arrays in inputList are equal\n",
    "    refLength = len(inputList[0])\n",
    "    for i in range(len(inputList)-1):\n",
    "        if len(inputList[i+1]) != refLength:\n",
    "            raise ValueError('Input arrays of inputList must be equal.')\n",
    "            \n",
    "    # Create formatted input per FMPy requirements\n",
    "    tupleList = []\n",
    "    for i in range(refLength):\n",
    "        tupleItem = []\n",
    "        for val in inputList:\n",
    "            tupleItem.append(val[i])\n",
    "        tupleList.append(tuple(tupleItem))\n",
    "    return np.array(lst, dtype)"
   ]
  },
  {
   "cell_type": "code",
   "execution_count": 135,
   "id": "ea22a83d-8176-4995-b589-98927aabfcd3",
   "metadata": {},
   "outputs": [],
   "source": [
    "def _objective(u,*params): \n",
    "    '''\n",
    "    '''\n",
    "    \n",
    "    filename, start_time, stop_time, output_interval, start_values, referenceTraj = params\n",
    "    \n",
    "    outputs = referenceTraj.keys()\n",
    "    \n",
    "    # start_values={}\n",
    "    # for i in range(len(cs)):\n",
    "    #     start_values['CFs[{}]'.format(i+1)] = cs[i]\n",
    "        \n",
    "    dtype = [('time', np.double), ('u', np.double)]\n",
    "    inputs = np.array([time, u], dtype=dtype)\n",
    "    \n",
    "    # Run the model       \n",
    "    result = fmpy.simulate_fmu(fmu,output=outputs,start_values=start_values)\n",
    "    results = simulate_fmu(filename,\n",
    "                           start_time=start_time,\n",
    "                           stop_time=stop_time,\n",
    "                           output_interval=output_interval,\n",
    "                           start_values=start_values,\n",
    "                           input=inputs,\n",
    "                           output=outputs)\n",
    "#     # Get results\n",
    "#     compareDict = compareModelListResults_FMU(problem,result,goldValues)\n",
    "#     # Get error\n",
    "#     error = []\n",
    "#     for i in range(len(cs)):\n",
    "#         name = mapping['CFs[{}]'.format(i+1)]\n",
    "#         error.append(compareDict[problem][name]['goldDiffRelative'])\n",
    "        \n",
    "#     print(cs)\n",
    "    return result"
   ]
  },
  {
   "cell_type": "code",
   "execution_count": 136,
   "id": "c54e4fa9-1107-471f-ad61-2a8383eb5c33",
   "metadata": {},
   "outputs": [],
   "source": [
    "from fmpy import simulate_fmu"
   ]
  },
  {
   "cell_type": "code",
   "execution_count": 170,
   "id": "86503118-e992-498b-8538-8db65c629a77",
   "metadata": {},
   "outputs": [],
   "source": [
    "# Path to FMU\n",
    "filename = '../tests/fmus/lotkaVolterra.fmu'\n",
    "# Start time\n",
    "start_time = 0.0\n",
    "# Start values\n",
    "start_values = {'x_start':50,'y_start':50,'alpha':0.5,'beta':0.025,'gamma':0.5,'delta':0.005}\n",
    "# Outputs\n",
    "outputs = ['time','x','y','u']\n",
    "# Interval at which control should be optimized\n",
    "output_interval = 0.1\n",
    "\n",
    "# Select which input as base, the other will ve overwritten\n",
    "use_nPredictions = False\n",
    "nPredictions = 20\n",
    "stop_time = 100.0\n",
    "\n",
    "if use_nPredictions:\n",
    "    # Calculate simulation time based on inputs\n",
    "    stop_time = output_interval*nPredictions\n",
    "else:\n",
    "    # Calculate the numpber of predictions\n",
    "    nPredictions = int((stop_time-start_time)/output_interval)"
   ]
  },
  {
   "cell_type": "code",
   "execution_count": 171,
   "id": "f249dd9b-89be-424f-a199-cbb58bf171e6",
   "metadata": {},
   "outputs": [],
   "source": [
    "# Determine method of how controller will function (e.g., step changes, linear changes between points, etc.)\n",
    "time_control = np.linspace(0,stop_time,nPredictions+1)\n",
    "# Provide inital guess of control signal(s)\n",
    "u = np.ones(len(time_control))*100\n",
    "# Specify formatting and generate FMPy inputs\n",
    "dtype = [('time', np.double), ('u', np.double)]\n",
    "inputList = [time_control, u]\n",
    "inputs = createInputs(inputList,dtype)"
   ]
  },
  {
   "cell_type": "code",
   "execution_count": 172,
   "id": "b974fbed-bfa1-475a-afd3-d317a35fdc74",
   "metadata": {},
   "outputs": [],
   "source": [
    "# Create reference trajectory to be used in optimization\n",
    "referenceTraj = np.sin(-time_control/2)*np.max(u) + np.max(u)"
   ]
  },
  {
   "cell_type": "code",
   "execution_count": 173,
   "id": "8dcfb1f9-5591-4184-bbfa-c52654962290",
   "metadata": {},
   "outputs": [],
   "source": [
    "results = simulate_fmu(filename,\n",
    "                       start_time=start_time,\n",
    "                       stop_time=stop_time,\n",
    "                       output_interval=output_interval,\n",
    "                       start_values=start_values,\n",
    "                       input=inputs,\n",
    "                       output=outputs)"
   ]
  },
  {
   "cell_type": "code",
   "execution_count": 174,
   "id": "aef043ab-5ab5-4f96-ad99-38c028545c22",
   "metadata": {},
   "outputs": [
    {
     "data": {
      "text/plain": [
       "<matplotlib.legend.Legend at 0x1e0248ad6a0>"
      ]
     },
     "execution_count": 174,
     "metadata": {},
     "output_type": "execute_result"
    },
    {
     "data": {
      "image/png": "[encoded data removed]",
      "text/plain": [
       "<Figure size 432x288 with 1 Axes>"
      ]
     },
     "metadata": {
      "needs_background": "light"
     },
     "output_type": "display_data"
    }
   ],
   "source": [
    "plt.plot(results['time'],results['x'], label='x')\n",
    "plt.plot(results['time'],results['u'],label='u')\n",
    "plt.plot(results['time'],referenceTraj,label='ref')\n",
    "plt.legend()"
   ]
  },
  {
   "cell_type": "code",
   "execution_count": 169,
   "id": "5b70608f-1f09-4d50-85b9-3b57521f3d78",
   "metadata": {},
   "outputs": [
    {
     "data": {
      "text/plain": [
       "array([  0. ,   0.1,   0.2, ...,  99.8,  99.9, 100. ])"
      ]
     },
     "execution_count": 169,
     "metadata": {},
     "output_type": "execute_result"
    }
   ],
   "source": [
    "time_control"
   ]
  },
  {
   "cell_type": "code",
   "execution_count": null,
   "id": "ab3cc393-8d1c-4e45-a820-f3a55f4e0b3d",
   "metadata": {},
   "outputs": [],
   "source": []
  },
  {
   "cell_type": "code",
   "execution_count": null,
   "id": "807d6d54-00fe-4238-8fb1-e912bdaf2405",
   "metadata": {},
   "outputs": [],
   "source": [
    "# Create reference trajectory\n",
    "referenceTraj = np.sin("
   ]
  },
  {
   "cell_type": "code",
   "execution_count": null,
   "id": "120ad4e2-f9a9-4b56-8bdf-9d7f6bea3104",
   "metadata": {},
   "outputs": [],
   "source": [
    "params = (filename, start_time, stop_time, output_interval, start_values, referenceTraj)"
   ]
  },
  {
   "cell_type": "code",
   "execution_count": null,
   "id": "d42cbfd1-a35f-4647-85d5-57c5434742af",
   "metadata": {},
   "outputs": [],
   "source": [
    "\n",
    "\n",
    "result = _objective(u,*params): "
   ]
  },
  {
   "cell_type": "code",
   "execution_count": null,
   "id": "85f42388-9b60-4eab-a26a-1fd02de475a9",
   "metadata": {},
   "outputs": [],
   "source": [
    "scipy.optimize.least_squares"
   ]
  },
  {
   "cell_type": "code",
   "execution_count": 175,
   "id": "81e05bc4-f06c-4f78-aad4-38674163bac1",
   "metadata": {},
   "outputs": [],
   "source": [
    "from scipy.interpolate import interp1d"
   ]
  },
  {
   "cell_type": "code",
   "execution_count": null,
   "id": "d193dbe9-726b-4331-aee8-5cd363a789fb",
   "metadata": {},
   "outputs": [],
   "source": [
    "interp1d"
   ]
  }
 ],
 "metadata": {
  "kernelspec": {
   "display_name": "Python 3 (ipykernel)",
   "language": "python",
   "name": "python3"
  },
  "language_info": {
   "codemirror_mode": {
    "name": "ipython",
    "version": 3
   },
   "file_extension": ".py",
   "mimetype": "text/x-python",
   "name": "python",
   "nbconvert_exporter": "python",
   "pygments_lexer": "ipython3",
   "version": "3.9.7"
  }
 },
 "nbformat": 4,
 "nbformat_minor": 5
}
